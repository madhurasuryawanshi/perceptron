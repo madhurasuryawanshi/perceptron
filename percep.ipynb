{
 "cells": [
  {
   "cell_type": "code",
   "execution_count": 1,
   "metadata": {},
   "outputs": [],
   "source": [
    "#Madhura Suryawanshi CWID: 887445005\n",
    "#Anjali Iyer CWID: 887478717\n",
    "#ANN Project 1\n",
    "\n",
    "import numpy as np\n",
    "import math\n",
    "import matplotlib\n",
    "import matplotlib.pyplot as plt\n",
    "\n",
    "class Perceptron(object): #for training and predicting each perceptron for given epoch and learning rate\n",
    "    \n",
    "    def __init__(self, no_of_inputs, epoch=50, learning_rate=0.03):\n",
    "        self.epoch = epoch\n",
    "        self.learning_rate = learning_rate\n",
    "        self.weights = np.random.rand(no_of_inputs + 1)\n",
    "           \n",
    "    def predict(self, inputs):\n",
    "        equation = np.dot(inputs, self.weights[1:]) + self.weights[0]\n",
    "        if equation > 0:\n",
    "          threshold = 1\n",
    "        else:\n",
    "          threshold = 0            \n",
    "        return threshold\n",
    "\n",
    "    def train(self, training_inputs, labels):\n",
    "        error = 0 \n",
    "        errors_list = []\n",
    "        for _ in range(self.epoch):\n",
    "            total_error = 0\n",
    "            for inputs, label in zip(training_inputs, labels):\n",
    "                prediction = self.predict(inputs)\n",
    "                error = self.learning_rate * (label - prediction)\n",
    "                total_error += abs(error)\n",
    "                self.weights[1:] += self.learning_rate * (label - prediction) * inputs\n",
    "                self.weights[0] += self.learning_rate * (label - prediction)\n",
    "            errors_list.append(total_error)\n",
    "        plt.plot(errors_list)\n",
    "        plt.xlabel('Epoch')  \n",
    "        plt.ylabel('Total Loss')   \n",
    "        plt.grid()\n",
    "        plt.show()\n",
    "        \n",
    "  \n",
    "        \n",
    "            "
   ]
  },
  {
   "cell_type": "code",
   "execution_count": null,
   "metadata": {},
   "outputs": [],
   "source": []
  }
 ],
 "metadata": {
  "kernelspec": {
   "display_name": "Python 3",
   "language": "python",
   "name": "python3"
  },
  "language_info": {
   "codemirror_mode": {
    "name": "ipython",
    "version": 3
   },
   "file_extension": ".py",
   "mimetype": "text/x-python",
   "name": "python",
   "nbconvert_exporter": "python",
   "pygments_lexer": "ipython3",
   "version": "3.7.3"
  }
 },
 "nbformat": 4,
 "nbformat_minor": 4
}
